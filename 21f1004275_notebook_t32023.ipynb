{
  "metadata": {
    "kernelspec": {
      "language": "python",
      "display_name": "Python 3",
      "name": "python3"
    },
    "language_info": {
      "name": "python",
      "version": "3.10.12",
      "mimetype": "text/x-python",
      "codemirror_mode": {
        "name": "ipython",
        "version": 3
      },
      "pygments_lexer": "ipython3",
      "nbconvert_exporter": "python",
      "file_extension": ".py"
    },
    "kaggle": {
      "accelerator": "none",
      "dataSources": [
        {
          "sourceId": 61246,
          "databundleVersionId": 6604167,
          "sourceType": "competition"
        }
      ],
      "dockerImageVersionId": 30558,
      "isInternetEnabled": true,
      "language": "python",
      "sourceType": "notebook",
      "isGpuEnabled": false
    },
    "colab": {
      "name": "21f1004275-notebook-t32023",
      "provenance": []
    }
  },
  "nbformat_minor": 0,
  "nbformat": 4,
  "cells": [
    {
      "source": [
        "\n",
        "# IMPORTANT: RUN THIS CELL IN ORDER TO IMPORT YOUR KAGGLE DATA SOURCES\n",
        "# TO THE CORRECT LOCATION (/kaggle/input) IN YOUR NOTEBOOK,\n",
        "# THEN FEEL FREE TO DELETE THIS CELL.\n",
        "# NOTE: THIS NOTEBOOK ENVIRONMENT DIFFERS FROM KAGGLE'S PYTHON\n",
        "# ENVIRONMENT SO THERE MAY BE MISSING LIBRARIES USED BY YOUR\n",
        "# NOTEBOOK.\n",
        "\n",
        "import os\n",
        "import sys\n",
        "from tempfile import NamedTemporaryFile\n",
        "from urllib.request import urlopen\n",
        "from urllib.parse import unquote, urlparse\n",
        "from urllib.error import HTTPError\n",
        "from zipfile import ZipFile\n",
        "import tarfile\n",
        "import shutil\n",
        "\n",
        "CHUNK_SIZE = 40960\n",
        "DATA_SOURCE_MAPPING = 'taxi-fare-guru-total-amount-prediction-challenge:https%3A%2F%2Fstorage.googleapis.com%2Fkaggle-competitions-data%2Fkaggle-v2%2F61246%2F6604167%2Fbundle%2Farchive.zip%3FX-Goog-Algorithm%3DGOOG4-RSA-SHA256%26X-Goog-Credential%3Dgcp-kaggle-com%2540kaggle-161607.iam.gserviceaccount.com%252F20240612%252Fauto%252Fstorage%252Fgoog4_request%26X-Goog-Date%3D20240612T185120Z%26X-Goog-Expires%3D259200%26X-Goog-SignedHeaders%3Dhost%26X-Goog-Signature%3D49bb2f31eca301512ecef94de36c9e4ec8c47bc35fcae8f0ef43ff3d9f5a694672bca928ab2d416b71ef70db4f2dc166ae3aa3b4821ed23b183e81c9073e2735b49c43e91c01847aab59c71704afb10bd218273b446450259f22994555e2dbf7c32749287f48d96c30cd4255f970ad0cb1b8999169ef59dcadc6cd270cd03312b9150bd1c17d59fe03c1b8432739faf33e70bb491987a0c0456bd3d037eeab0427caac30aa1e5d79e061f1cc49f337c301d6b6676f5e515facaf374e833d87b8a6952bf166f1f40761e0d951b59b0a180188654c11849c42146d35bdc0cd72ea848b8e33af8c56c4572aed93799db9a18809422ced14670f72c2577b9a902b0d'\n",
        "\n",
        "KAGGLE_INPUT_PATH='/kaggle/input'\n",
        "KAGGLE_WORKING_PATH='/kaggle/working'\n",
        "KAGGLE_SYMLINK='kaggle'\n",
        "\n",
        "!umount /kaggle/input/ 2> /dev/null\n",
        "shutil.rmtree('/kaggle/input', ignore_errors=True)\n",
        "os.makedirs(KAGGLE_INPUT_PATH, 0o777, exist_ok=True)\n",
        "os.makedirs(KAGGLE_WORKING_PATH, 0o777, exist_ok=True)\n",
        "\n",
        "try:\n",
        "  os.symlink(KAGGLE_INPUT_PATH, os.path.join(\"..\", 'input'), target_is_directory=True)\n",
        "except FileExistsError:\n",
        "  pass\n",
        "try:\n",
        "  os.symlink(KAGGLE_WORKING_PATH, os.path.join(\"..\", 'working'), target_is_directory=True)\n",
        "except FileExistsError:\n",
        "  pass\n",
        "\n",
        "for data_source_mapping in DATA_SOURCE_MAPPING.split(','):\n",
        "    directory, download_url_encoded = data_source_mapping.split(':')\n",
        "    download_url = unquote(download_url_encoded)\n",
        "    filename = urlparse(download_url).path\n",
        "    destination_path = os.path.join(KAGGLE_INPUT_PATH, directory)\n",
        "    try:\n",
        "        with urlopen(download_url) as fileres, NamedTemporaryFile() as tfile:\n",
        "            total_length = fileres.headers['content-length']\n",
        "            print(f'Downloading {directory}, {total_length} bytes compressed')\n",
        "            dl = 0\n",
        "            data = fileres.read(CHUNK_SIZE)\n",
        "            while len(data) > 0:\n",
        "                dl += len(data)\n",
        "                tfile.write(data)\n",
        "                done = int(50 * dl / int(total_length))\n",
        "                sys.stdout.write(f\"\\r[{'=' * done}{' ' * (50-done)}] {dl} bytes downloaded\")\n",
        "                sys.stdout.flush()\n",
        "                data = fileres.read(CHUNK_SIZE)\n",
        "            if filename.endswith('.zip'):\n",
        "              with ZipFile(tfile) as zfile:\n",
        "                zfile.extractall(destination_path)\n",
        "            else:\n",
        "              with tarfile.open(tfile.name) as tarfile:\n",
        "                tarfile.extractall(destination_path)\n",
        "            print(f'\\nDownloaded and uncompressed: {directory}')\n",
        "    except HTTPError as e:\n",
        "        print(f'Failed to load (likely expired) {download_url} to path {destination_path}')\n",
        "        continue\n",
        "    except OSError as e:\n",
        "        print(f'Failed to load {download_url} to path {destination_path}')\n",
        "        continue\n",
        "\n",
        "print('Data source import complete.')\n"
      ],
      "metadata": {
        "id": "POfbZC6eylAK"
      },
      "cell_type": "code",
      "outputs": [],
      "execution_count": null
    },
    {
      "cell_type": "code",
      "source": [
        "# This Python 3 environment comes with many helpful analytics libraries installed\n",
        "# It is defined by the kaggle/python Docker image: https://github.com/kaggle/docker-python\n",
        "# For example, here's several helpful packages to load\n",
        "\n",
        "import numpy as np # linear algebra\n",
        "import pandas as pd # data processing, CSV file I/O (e.g. pd.read_csv)\n",
        "\n",
        "# Input data files are available in the read-only \"../input/\" directory\n",
        "# For example, running this (by clicking run or pressing Shift+Enter) will list all files under the input directory\n",
        "\n",
        "import os\n",
        "for dirname, _, filenames in os.walk('/kaggle/input'):\n",
        "    for filename in filenames:\n",
        "        print(os.path.join(dirname, filename))\n",
        "\n",
        "# You can write up to 20GB to the current directory (/kaggle/working/) that gets preserved as output when you create a version using \"Save & Run All\"\n",
        "# You can also write temporary files to /kaggle/temp/, but they won't be saved outside of the current session"
      ],
      "metadata": {
        "_uuid": "8f2839f25d086af736a60e9eeb907d3b93b6e0e5",
        "_cell_guid": "b1076dfc-b9ad-4769-8c92-a6c4dae69d19",
        "execution": {
          "iopub.status.busy": "2023-12-15T16:08:17.464393Z",
          "iopub.execute_input": "2023-12-15T16:08:17.464856Z",
          "iopub.status.idle": "2023-12-15T16:08:17.483968Z",
          "shell.execute_reply.started": "2023-12-15T16:08:17.464821Z",
          "shell.execute_reply": "2023-12-15T16:08:17.482478Z"
        },
        "trusted": true,
        "id": "tjcIsbMRylAM"
      },
      "execution_count": null,
      "outputs": []
    },
    {
      "cell_type": "code",
      "source": [],
      "metadata": {
        "trusted": true,
        "id": "RclAPl1CylAM"
      },
      "execution_count": null,
      "outputs": []
    },
    {
      "cell_type": "code",
      "source": [
        "#from sklearn.dummy import DummyClassifier\n"
      ],
      "metadata": {
        "execution": {
          "iopub.status.busy": "2023-12-15T16:08:17.486333Z",
          "iopub.execute_input": "2023-12-15T16:08:17.486771Z",
          "iopub.status.idle": "2023-12-15T16:08:17.493124Z",
          "shell.execute_reply.started": "2023-12-15T16:08:17.486732Z",
          "shell.execute_reply": "2023-12-15T16:08:17.49165Z"
        },
        "trusted": true,
        "id": "4GaDSFe0ylAN"
      },
      "execution_count": null,
      "outputs": []
    },
    {
      "cell_type": "markdown",
      "source": [
        "# Calling the necessary libraries"
      ],
      "metadata": {
        "id": "7o0ecCcUylAN"
      }
    },
    {
      "cell_type": "code",
      "source": [
        "from sklearn.model_selection import train_test_split\n",
        "from sklearn.dummy import DummyRegressor\n",
        "from sklearn.metrics import mean_squared_error, mean_absolute_error, r2_score\n",
        "from sklearn.compose import ColumnTransformer\n",
        "from sklearn.decomposition import PCA\n",
        "from sklearn.feature_selection import SelectKBest, f_regression\n",
        "from sklearn.impute import SimpleImputer\n",
        "from sklearn.linear_model import LinearRegression, Lasso, Ridge,RidgeCV, SGDRegressor\n",
        "from sklearn.model_selection import GridSearchCV,cross_val_score, cross_validate,KFold\n",
        "from sklearn.pipeline import Pipeline\n",
        "from sklearn.preprocessing import PolynomialFeatures,MinMaxScaler,OneHotEncoder, StandardScaler\n",
        "from sklearn.neighbors import KNeighborsRegressor\n",
        "from sklearn.svm import SVR\n",
        "from sklearn.tree import DecisionTreeRegressor\n",
        "from sklearn.ensemble import GradientBoostingRegressor,RandomForestRegressor\n",
        "from xgboost import XGBRegressor\n",
        "import xgboost as xg\n",
        "\n",
        "\n",
        "import seaborn as sns\n",
        "import matplotlib.pyplot as plt\n",
        "\n",
        "\n",
        "\n",
        "# Load your dataset (replace 'your_dataset.csv' with the actual filename)\n",
        "df = pd.read_csv('/kaggle/input/taxi-fare-guru-total-amount-prediction-challenge/train.csv')\n"
      ],
      "metadata": {
        "execution": {
          "iopub.status.busy": "2023-12-15T16:08:17.494724Z",
          "iopub.execute_input": "2023-12-15T16:08:17.495305Z",
          "iopub.status.idle": "2023-12-15T16:08:17.827888Z",
          "shell.execute_reply.started": "2023-12-15T16:08:17.495268Z",
          "shell.execute_reply": "2023-12-15T16:08:17.82709Z"
        },
        "trusted": true,
        "id": "iKY8SjbSylAO"
      },
      "execution_count": null,
      "outputs": []
    },
    {
      "cell_type": "markdown",
      "source": [
        "**EDA**"
      ],
      "metadata": {
        "id": "sAKfjE-iylAO"
      }
    },
    {
      "cell_type": "code",
      "source": [
        "df.head()"
      ],
      "metadata": {
        "execution": {
          "iopub.status.busy": "2023-12-15T16:08:17.830157Z",
          "iopub.execute_input": "2023-12-15T16:08:17.830732Z",
          "iopub.status.idle": "2023-12-15T16:08:17.854555Z",
          "shell.execute_reply.started": "2023-12-15T16:08:17.830675Z",
          "shell.execute_reply": "2023-12-15T16:08:17.853544Z"
        },
        "trusted": true,
        "id": "UCDK_D8SylAO"
      },
      "execution_count": null,
      "outputs": []
    },
    {
      "cell_type": "code",
      "source": [
        "df.shape"
      ],
      "metadata": {
        "execution": {
          "iopub.status.busy": "2023-12-15T16:08:17.855838Z",
          "iopub.execute_input": "2023-12-15T16:08:17.856218Z",
          "iopub.status.idle": "2023-12-15T16:08:17.864985Z",
          "shell.execute_reply.started": "2023-12-15T16:08:17.856185Z",
          "shell.execute_reply": "2023-12-15T16:08:17.863238Z"
        },
        "trusted": true,
        "id": "NBid0P1BylAP"
      },
      "execution_count": null,
      "outputs": []
    },
    {
      "cell_type": "code",
      "source": [
        "df.describe()"
      ],
      "metadata": {
        "execution": {
          "iopub.status.busy": "2023-12-15T16:08:17.866517Z",
          "iopub.execute_input": "2023-12-15T16:08:17.866871Z",
          "iopub.status.idle": "2023-12-15T16:08:17.975429Z",
          "shell.execute_reply.started": "2023-12-15T16:08:17.86684Z",
          "shell.execute_reply": "2023-12-15T16:08:17.974245Z"
        },
        "trusted": true,
        "id": "QisNvP_HylAP"
      },
      "execution_count": null,
      "outputs": []
    },
    {
      "cell_type": "code",
      "source": [
        "df.info()"
      ],
      "metadata": {
        "execution": {
          "iopub.status.busy": "2023-12-15T16:08:17.977315Z",
          "iopub.execute_input": "2023-12-15T16:08:17.9778Z",
          "iopub.status.idle": "2023-12-15T16:08:18.015836Z",
          "shell.execute_reply.started": "2023-12-15T16:08:17.977759Z",
          "shell.execute_reply": "2023-12-15T16:08:18.014131Z"
        },
        "trusted": true,
        "id": "GdKNWJglylAP"
      },
      "execution_count": null,
      "outputs": []
    },
    {
      "cell_type": "code",
      "source": [
        "df['payment_type'].unique()"
      ],
      "metadata": {
        "execution": {
          "iopub.status.busy": "2023-12-15T16:08:18.018152Z",
          "iopub.execute_input": "2023-12-15T16:08:18.018853Z",
          "iopub.status.idle": "2023-12-15T16:08:18.036417Z",
          "shell.execute_reply.started": "2023-12-15T16:08:18.018817Z",
          "shell.execute_reply": "2023-12-15T16:08:18.035358Z"
        },
        "trusted": true,
        "id": "Gi-BDkEzylAP"
      },
      "execution_count": null,
      "outputs": []
    },
    {
      "cell_type": "code",
      "source": [
        "missing_cat=df.loc[df['payment_type']== 'unknown']"
      ],
      "metadata": {
        "execution": {
          "iopub.status.busy": "2023-12-15T16:08:18.038758Z",
          "iopub.execute_input": "2023-12-15T16:08:18.039055Z",
          "iopub.status.idle": "2023-12-15T16:08:18.056738Z",
          "shell.execute_reply.started": "2023-12-15T16:08:18.039028Z",
          "shell.execute_reply": "2023-12-15T16:08:18.05503Z"
        },
        "trusted": true,
        "id": "O9H1VzncylAP"
      },
      "execution_count": null,
      "outputs": []
    },
    {
      "cell_type": "code",
      "source": [
        "missing_cat"
      ],
      "metadata": {
        "execution": {
          "iopub.status.busy": "2023-12-15T16:08:18.608709Z",
          "iopub.execute_input": "2023-12-15T16:08:18.609467Z",
          "iopub.status.idle": "2023-12-15T16:08:18.641837Z",
          "shell.execute_reply.started": "2023-12-15T16:08:18.609434Z",
          "shell.execute_reply": "2023-12-15T16:08:18.639531Z"
        },
        "trusted": true,
        "id": "EK6pwCoHylAQ"
      },
      "execution_count": null,
      "outputs": []
    },
    {
      "cell_type": "code",
      "source": [
        "df.isnull().sum()"
      ],
      "metadata": {
        "execution": {
          "iopub.status.busy": "2023-12-15T16:08:18.644629Z",
          "iopub.execute_input": "2023-12-15T16:08:18.645671Z",
          "iopub.status.idle": "2023-12-15T16:08:18.677251Z",
          "shell.execute_reply.started": "2023-12-15T16:08:18.645638Z",
          "shell.execute_reply": "2023-12-15T16:08:18.676227Z"
        },
        "trusted": true,
        "id": "P2D5T19NylAQ"
      },
      "execution_count": null,
      "outputs": []
    },
    {
      "cell_type": "code",
      "source": [
        "df[df.isna().any(axis=1)]"
      ],
      "metadata": {
        "execution": {
          "iopub.status.busy": "2023-12-15T16:08:18.678565Z",
          "iopub.execute_input": "2023-12-15T16:08:18.678901Z",
          "iopub.status.idle": "2023-12-15T16:08:18.730929Z",
          "shell.execute_reply.started": "2023-12-15T16:08:18.678873Z",
          "shell.execute_reply": "2023-12-15T16:08:18.72987Z"
        },
        "trusted": true,
        "id": "mwB9GJy5ylAQ"
      },
      "execution_count": null,
      "outputs": []
    },
    {
      "cell_type": "markdown",
      "source": [
        "**As can be seen the missing values are present in the columns ['passenger_count', 'RatecodeID', 'store_and_fwd_flag', 'congestion_surcharge', 'Airport_fee'] of which ''store_and_fwd_flag' has values of object type as it is a cetegorical variable, the rest have values of float64 type. But RatecodeID is also a categorical variable so we need to impute values for it like a categorical variable. Another object type column is 'payment_type' it has 'unknown' as one of its missing values so but we have to impute missing values for it also. The target variable 'total_amount' does not have any missing values so we do not drop any rows and for the other missing values we choose to impute**"
      ],
      "metadata": {
        "id": "A_UKdmGBylAQ"
      }
    },
    {
      "cell_type": "code",
      "source": [
        "df['RatecodeID'].unique()"
      ],
      "metadata": {
        "execution": {
          "iopub.status.busy": "2023-12-15T16:08:18.732327Z",
          "iopub.execute_input": "2023-12-15T16:08:18.732744Z",
          "iopub.status.idle": "2023-12-15T16:08:18.743866Z",
          "shell.execute_reply.started": "2023-12-15T16:08:18.732706Z",
          "shell.execute_reply": "2023-12-15T16:08:18.742019Z"
        },
        "trusted": true,
        "id": "mTWWjpHsylAQ"
      },
      "execution_count": null,
      "outputs": []
    },
    {
      "cell_type": "code",
      "source": [
        "df"
      ],
      "metadata": {
        "execution": {
          "iopub.status.busy": "2023-12-15T16:08:18.746627Z",
          "iopub.execute_input": "2023-12-15T16:08:18.746998Z",
          "iopub.status.idle": "2023-12-15T16:08:18.775276Z",
          "shell.execute_reply.started": "2023-12-15T16:08:18.746971Z",
          "shell.execute_reply": "2023-12-15T16:08:18.773798Z"
        },
        "trusted": true,
        "id": "cAW3uAaNylAQ"
      },
      "execution_count": null,
      "outputs": []
    },
    {
      "cell_type": "markdown",
      "source": [
        "**Feature Engineering**"
      ],
      "metadata": {
        "id": "qAcPjCoyylAQ"
      }
    },
    {
      "cell_type": "markdown",
      "source": [
        "**For better solving the 'tpep_pickup_datetime', 'tpep_dropoff_datetime' objects here they are coverted to datetime objects. Suspecting that day,month, hour of pickup could play a role we separate them here.**"
      ],
      "metadata": {
        "id": "ppLICXNVylAQ"
      }
    },
    {
      "cell_type": "code",
      "source": [
        "df[['tpep_pickup_datetime', 'tpep_dropoff_datetime']] = df[['tpep_pickup_datetime', 'tpep_dropoff_datetime']].apply(\n",
        "    pd.to_datetime, format='%Y-%m-%d %H:%M:%S', errors='raise')\n",
        "df['time_difference_minutes'] = abs((df['tpep_dropoff_datetime'] - df['tpep_pickup_datetime']).dt.total_seconds() / 60)\n",
        "df['hour_of_pickup'] = df['tpep_pickup_datetime'].dt.hour\n",
        "df['day_of_pickup'] = df['tpep_pickup_datetime'].dt.dayofweek\n",
        "df['month_of_pickup'] = df['tpep_pickup_datetime'].dt.month\n",
        "\n",
        "\n",
        "df=df.drop(['tpep_pickup_datetime','tpep_dropoff_datetime'],axis = 1)"
      ],
      "metadata": {
        "execution": {
          "iopub.status.busy": "2023-12-15T16:08:18.776501Z",
          "iopub.execute_input": "2023-12-15T16:08:18.776917Z",
          "iopub.status.idle": "2023-12-15T16:08:18.910451Z",
          "shell.execute_reply.started": "2023-12-15T16:08:18.776881Z",
          "shell.execute_reply": "2023-12-15T16:08:18.909104Z"
        },
        "trusted": true,
        "id": "eiqmlg3HylAR"
      },
      "execution_count": null,
      "outputs": []
    },
    {
      "cell_type": "markdown",
      "source": [
        "Year is same for all date of pickups, so a new column year is not created."
      ],
      "metadata": {
        "id": "WzRhNOWcylAR"
      }
    },
    {
      "cell_type": "code",
      "source": [],
      "metadata": {
        "id": "MmoMuQWgylAR"
      },
      "execution_count": null,
      "outputs": []
    },
    {
      "cell_type": "code",
      "source": [
        "df['day_of_pickup'].unique()"
      ],
      "metadata": {
        "execution": {
          "iopub.status.busy": "2023-12-15T16:08:18.911892Z",
          "iopub.execute_input": "2023-12-15T16:08:18.912247Z",
          "iopub.status.idle": "2023-12-15T16:08:18.922045Z",
          "shell.execute_reply.started": "2023-12-15T16:08:18.912215Z",
          "shell.execute_reply": "2023-12-15T16:08:18.920766Z"
        },
        "trusted": true,
        "id": "R2EwRt3hylAR"
      },
      "execution_count": null,
      "outputs": []
    },
    {
      "cell_type": "markdown",
      "source": [
        "# 'total_amount' is our target variable so we separate target variable from features here"
      ],
      "metadata": {
        "id": "Lvh4i_FXylAR"
      }
    },
    {
      "cell_type": "code",
      "source": [
        "df_features = df.drop(columns = ['total_amount'])\n",
        "targetlabel= df['total_amount']\n"
      ],
      "metadata": {
        "execution": {
          "iopub.status.busy": "2023-12-15T16:08:18.923274Z",
          "iopub.execute_input": "2023-12-15T16:08:18.923641Z",
          "iopub.status.idle": "2023-12-15T16:08:18.939303Z",
          "shell.execute_reply.started": "2023-12-15T16:08:18.923605Z",
          "shell.execute_reply": "2023-12-15T16:08:18.93793Z"
        },
        "trusted": true,
        "id": "EHwfFLpqylAR"
      },
      "execution_count": null,
      "outputs": []
    },
    {
      "cell_type": "markdown",
      "source": [
        "# Data preprocessing"
      ],
      "metadata": {
        "id": "eMV-oG2jylAR"
      }
    },
    {
      "cell_type": "code",
      "source": [
        "ct1= ColumnTransformer([\n",
        "    ('imputer1', SimpleImputer(missing_values = np.nan,strategy = 'median'),['passenger_count'] ),\n",
        "    ('imputer2', SimpleImputer(missing_values=np.nan, strategy = 'most_frequent'),['RatecodeID','store_and_fwd_flag']),\n",
        "    ('imputer3', SimpleImputer(missing_values=np.nan, strategy = 'mean'),['congestion_surcharge', 'Airport_fee']),\n",
        "    ('imputer4', SimpleImputer(missing_values='unknown', strategy = 'most_frequent'),['payment_type'])\n",
        "],\n",
        "    remainder='passthrough',\n",
        "    verbose_feature_names_out= False,\n",
        "\n",
        ").set_output(transform='pandas')\n",
        "df_imputed = ct1.fit_transform(df_features)\n",
        "df_imputed"
      ],
      "metadata": {
        "execution": {
          "iopub.status.busy": "2023-12-15T16:08:18.941061Z",
          "iopub.execute_input": "2023-12-15T16:08:18.941414Z",
          "iopub.status.idle": "2023-12-15T16:08:19.120902Z",
          "shell.execute_reply.started": "2023-12-15T16:08:18.941377Z",
          "shell.execute_reply": "2023-12-15T16:08:19.11946Z"
        },
        "trusted": true,
        "id": "JUuFTYDLylAR"
      },
      "execution_count": null,
      "outputs": []
    },
    {
      "cell_type": "code",
      "source": [
        "df_imputed['RatecodeID'].unique()"
      ],
      "metadata": {
        "execution": {
          "iopub.status.busy": "2023-12-15T16:08:19.122477Z",
          "iopub.execute_input": "2023-12-15T16:08:19.122796Z",
          "iopub.status.idle": "2023-12-15T16:08:19.138094Z",
          "shell.execute_reply.started": "2023-12-15T16:08:19.122769Z",
          "shell.execute_reply": "2023-12-15T16:08:19.137265Z"
        },
        "trusted": true,
        "id": "KWEF6t8GylAR"
      },
      "execution_count": null,
      "outputs": []
    },
    {
      "cell_type": "code",
      "source": [
        "df_imputed.isna().sum()"
      ],
      "metadata": {
        "execution": {
          "iopub.status.busy": "2023-12-15T16:08:19.142664Z",
          "iopub.execute_input": "2023-12-15T16:08:19.143079Z",
          "iopub.status.idle": "2023-12-15T16:08:19.172147Z",
          "shell.execute_reply.started": "2023-12-15T16:08:19.143053Z",
          "shell.execute_reply": "2023-12-15T16:08:19.170975Z"
        },
        "trusted": true,
        "id": "f6kqYYdNylAR"
      },
      "execution_count": null,
      "outputs": []
    },
    {
      "cell_type": "code",
      "source": [
        "df_imputed['payment_type'].unique()"
      ],
      "metadata": {
        "execution": {
          "iopub.status.busy": "2023-12-15T16:08:19.17319Z",
          "iopub.execute_input": "2023-12-15T16:08:19.173621Z",
          "iopub.status.idle": "2023-12-15T16:08:19.193544Z",
          "shell.execute_reply.started": "2023-12-15T16:08:19.173584Z",
          "shell.execute_reply": "2023-12-15T16:08:19.19214Z"
        },
        "trusted": true,
        "id": "qQKbCIuDylAR"
      },
      "execution_count": null,
      "outputs": []
    },
    {
      "cell_type": "markdown",
      "source": [
        "**Correlation matrix for different Features**"
      ],
      "metadata": {
        "id": "Vj43nHMCylAS"
      }
    },
    {
      "cell_type": "code",
      "source": [
        "num_columns = df.select_dtypes(include=['number']).columns\n",
        "correlation_matrix = df[num_columns].corr()\n",
        "\n",
        "\n",
        "plt.figure(figsize=(12, 8))\n",
        "sns.heatmap(correlation_matrix, annot=True, cmap='coolwarm', fmt=\".2f\")\n",
        "plt.title('Correlation Matrix of Numerical Features')\n",
        "plt.show()"
      ],
      "metadata": {
        "execution": {
          "iopub.status.busy": "2023-12-15T16:08:19.19617Z",
          "iopub.execute_input": "2023-12-15T16:08:19.196533Z",
          "iopub.status.idle": "2023-12-15T16:08:20.244216Z",
          "shell.execute_reply.started": "2023-12-15T16:08:19.196506Z",
          "shell.execute_reply": "2023-12-15T16:08:20.243204Z"
        },
        "trusted": true,
        "id": "shOqAVOjylAS"
      },
      "execution_count": null,
      "outputs": []
    },
    {
      "cell_type": "code",
      "source": [
        "df['PULocationID'].unique()"
      ],
      "metadata": {
        "execution": {
          "iopub.status.busy": "2023-12-15T16:08:20.245448Z",
          "iopub.execute_input": "2023-12-15T16:08:20.246173Z",
          "iopub.status.idle": "2023-12-15T16:08:20.254954Z",
          "shell.execute_reply.started": "2023-12-15T16:08:20.246143Z",
          "shell.execute_reply": "2023-12-15T16:08:20.253988Z"
        },
        "trusted": true,
        "id": "9Ohozpp8ylAS"
      },
      "execution_count": null,
      "outputs": []
    },
    {
      "cell_type": "code",
      "source": [
        "ct2 = ColumnTransformer([\n",
        "    ('ohe', OneHotEncoder(sparse_output= False),['store_and_fwd_flag','payment_type','RatecodeID','VendorID','month_of_pickup']),\n",
        "    #('mms', MinMaxScaler(),['trip_distance','congestion_surcharge','Airport_fee','tip_amount','tolls_amount', 'extra','time_difference_minutes']\n",
        "    ('stdscl', StandardScaler(),['PULocationID','DOLocationID','trip_distance','congestion_surcharge','Airport_fee','tip_amount','tolls_amount', 'extra','time_difference_minutes','hour_of_pickup','day_of_pickup'])\n",
        "],\n",
        "remainder = 'passthrough',\n",
        "verbose_feature_names_out= False).set_output(transform='pandas')\n",
        "df_pre = ct2.fit_transform(df_imputed)\n",
        "df_pre"
      ],
      "metadata": {
        "execution": {
          "iopub.status.busy": "2023-12-15T16:08:20.256323Z",
          "iopub.execute_input": "2023-12-15T16:08:20.256909Z",
          "iopub.status.idle": "2023-12-15T16:08:20.581362Z",
          "shell.execute_reply.started": "2023-12-15T16:08:20.256879Z",
          "shell.execute_reply": "2023-12-15T16:08:20.580116Z"
        },
        "trusted": true,
        "id": "P4Vsk-yJylAS"
      },
      "execution_count": null,
      "outputs": []
    },
    {
      "cell_type": "code",
      "source": [],
      "metadata": {
        "trusted": true,
        "id": "yS5i7hIuylAS"
      },
      "execution_count": null,
      "outputs": []
    },
    {
      "cell_type": "markdown",
      "source": [
        "As there is 175000 rows in the train data. The 10% of that should suffice for testing while a great number of data points will train the model."
      ],
      "metadata": {
        "id": "w7Lr3iCEylAS"
      }
    },
    {
      "cell_type": "code",
      "source": [
        "df_train_features, df_test_features, df_train_label, df_test_label= train_test_split(df_pre,targetlabel, test_size=0.1, random_state=42)"
      ],
      "metadata": {
        "execution": {
          "iopub.status.busy": "2023-12-15T16:08:20.583312Z",
          "iopub.execute_input": "2023-12-15T16:08:20.583843Z",
          "iopub.status.idle": "2023-12-15T16:08:20.636462Z",
          "shell.execute_reply.started": "2023-12-15T16:08:20.58381Z",
          "shell.execute_reply": "2023-12-15T16:08:20.635087Z"
        },
        "trusted": true,
        "id": "bRNSoQcjylAS"
      },
      "execution_count": null,
      "outputs": []
    },
    {
      "cell_type": "code",
      "source": [
        "\n",
        "\n",
        "\n",
        "#a box plot for the newly created'runtimeMinutes'\n",
        "sns.boxplot(x=df['time_difference_minutes'])\n",
        "\n",
        "#a title and label for the y-axis\n",
        "plt.title('Box Plot of time difference in Minutes')\n",
        "plt.ylabel('time diffrence in minutes')\n",
        "\n",
        "# the plot\n",
        "plt.show()"
      ],
      "metadata": {
        "execution": {
          "iopub.status.busy": "2023-12-15T16:08:20.638388Z",
          "iopub.execute_input": "2023-12-15T16:08:20.638735Z",
          "iopub.status.idle": "2023-12-15T16:08:20.819354Z",
          "shell.execute_reply.started": "2023-12-15T16:08:20.638703Z",
          "shell.execute_reply": "2023-12-15T16:08:20.81837Z"
        },
        "trusted": true,
        "id": "uGX0KTPSylAW"
      },
      "execution_count": null,
      "outputs": []
    },
    {
      "cell_type": "markdown",
      "source": [],
      "metadata": {
        "id": "VPS6fspAylAW"
      }
    },
    {
      "cell_type": "code",
      "source": [
        "df_train_features.shape\n"
      ],
      "metadata": {
        "execution": {
          "iopub.status.busy": "2023-12-15T16:08:20.820549Z",
          "iopub.execute_input": "2023-12-15T16:08:20.820853Z",
          "iopub.status.idle": "2023-12-15T16:08:20.830572Z",
          "shell.execute_reply.started": "2023-12-15T16:08:20.820829Z",
          "shell.execute_reply": "2023-12-15T16:08:20.82858Z"
        },
        "trusted": true,
        "id": "QxQVc_KEylAW"
      },
      "execution_count": null,
      "outputs": []
    },
    {
      "cell_type": "code",
      "source": [
        "df_test_label.shape"
      ],
      "metadata": {
        "execution": {
          "iopub.status.busy": "2023-12-15T16:08:20.831728Z",
          "iopub.execute_input": "2023-12-15T16:08:20.832055Z",
          "iopub.status.idle": "2023-12-15T16:08:20.844735Z",
          "shell.execute_reply.started": "2023-12-15T16:08:20.83202Z",
          "shell.execute_reply": "2023-12-15T16:08:20.843347Z"
        },
        "trusted": true,
        "id": "CiUQUnN6ylAW"
      },
      "execution_count": null,
      "outputs": []
    },
    {
      "cell_type": "markdown",
      "source": [
        "# Model training\n",
        "For better speed I have commented out the computationally exhaustive Gridsearch and other low performing models. If required one can easily check the results after removing the ''' signs for multiline comments and # for single line comments"
      ],
      "metadata": {
        "id": "JpvUvwu4ylAW"
      }
    },
    {
      "cell_type": "markdown",
      "source": [
        "**Linear Regression(Baseline Model)**"
      ],
      "metadata": {
        "id": "8HglvATAylAW"
      }
    },
    {
      "cell_type": "code",
      "source": [
        "lr= LinearRegression()\n",
        "lr.fit(df_train_features,df_train_label)"
      ],
      "metadata": {
        "execution": {
          "iopub.status.busy": "2023-12-15T16:08:20.84786Z",
          "iopub.execute_input": "2023-12-15T16:08:20.849113Z",
          "iopub.status.idle": "2023-12-15T16:08:21.058431Z",
          "shell.execute_reply.started": "2023-12-15T16:08:20.849027Z",
          "shell.execute_reply": "2023-12-15T16:08:21.057661Z"
        },
        "trusted": true,
        "id": "esmdywkMylAW"
      },
      "execution_count": null,
      "outputs": []
    },
    {
      "cell_type": "code",
      "source": [
        "lr.score(df_test_features,df_test_label)"
      ],
      "metadata": {
        "execution": {
          "iopub.status.busy": "2023-12-15T16:08:21.059529Z",
          "iopub.execute_input": "2023-12-15T16:08:21.059822Z",
          "iopub.status.idle": "2023-12-15T16:08:21.077146Z",
          "shell.execute_reply.started": "2023-12-15T16:08:21.059797Z",
          "shell.execute_reply": "2023-12-15T16:08:21.076098Z"
        },
        "trusted": true,
        "id": "8hcmNeM2ylAW"
      },
      "execution_count": null,
      "outputs": []
    },
    {
      "cell_type": "markdown",
      "source": [
        "From the baseline linear regression model without any hyperparameter tuning the score from the test data is coming to be 0.7787640516776282\n",
        "The score on the train.csv is coming as 0.7534. Indicates moderate performance, although failed to meet the cutoff."
      ],
      "metadata": {
        "id": "fTIWNpmWylAW"
      }
    },
    {
      "cell_type": "code",
      "source": [
        "'''gd= SGDRegressor(\n",
        "    random_state=42,\n",
        "    max_iter=1000,\n",
        "    warm_start=True,\n",
        "    alpha=0.01,\n",
        "    early_stopping=True,\n",
        "    penalty='l1')\n",
        "sgd.fit(df_train_features,df_train_label)'''"
      ],
      "metadata": {
        "execution": {
          "iopub.status.busy": "2023-12-15T16:08:21.078384Z",
          "iopub.execute_input": "2023-12-15T16:08:21.079291Z",
          "iopub.status.idle": "2023-12-15T16:08:21.087429Z",
          "shell.execute_reply.started": "2023-12-15T16:08:21.079264Z",
          "shell.execute_reply": "2023-12-15T16:08:21.086627Z"
        },
        "trusted": true,
        "id": "M4S-pippylAX"
      },
      "execution_count": null,
      "outputs": []
    },
    {
      "cell_type": "code",
      "source": [
        "#sgd.score(df_test_features,df_test_label)"
      ],
      "metadata": {
        "execution": {
          "iopub.status.busy": "2023-12-15T16:08:21.088631Z",
          "iopub.execute_input": "2023-12-15T16:08:21.089118Z",
          "iopub.status.idle": "2023-12-15T16:08:21.097864Z",
          "shell.execute_reply.started": "2023-12-15T16:08:21.089089Z",
          "shell.execute_reply": "2023-12-15T16:08:21.09654Z"
        },
        "trusted": true,
        "id": "mgzoHUcrylAX"
      },
      "execution_count": null,
      "outputs": []
    },
    {
      "cell_type": "markdown",
      "source": [
        "SGDRegressor is performing poorly on this dataset. Giving score of -1.41.Failing to even meet the dummy regression using mean.\n"
      ],
      "metadata": {
        "id": "KUFcqt_FylAX"
      }
    },
    {
      "cell_type": "markdown",
      "source": [
        "**Cross Validation on Linear Regression**"
      ],
      "metadata": {
        "id": "9uOqLl-vylAX"
      }
    },
    {
      "cell_type": "code",
      "source": [
        "#lr_cv_scores = cross_val_score(lr,X=df_train_features,y=df_train_label, cv=5)"
      ],
      "metadata": {
        "execution": {
          "iopub.status.busy": "2023-12-15T16:08:21.099261Z",
          "iopub.execute_input": "2023-12-15T16:08:21.099597Z",
          "iopub.status.idle": "2023-12-15T16:08:21.110083Z",
          "shell.execute_reply.started": "2023-12-15T16:08:21.099566Z",
          "shell.execute_reply": "2023-12-15T16:08:21.108829Z"
        },
        "trusted": true,
        "id": "sU35InxmylAX"
      },
      "execution_count": null,
      "outputs": []
    },
    {
      "cell_type": "code",
      "source": [
        "#lr_cv_scores"
      ],
      "metadata": {
        "execution": {
          "iopub.status.busy": "2023-12-15T16:08:21.111864Z",
          "iopub.execute_input": "2023-12-15T16:08:21.112207Z",
          "iopub.status.idle": "2023-12-15T16:08:21.123911Z",
          "shell.execute_reply.started": "2023-12-15T16:08:21.112175Z",
          "shell.execute_reply": "2023-12-15T16:08:21.122799Z"
        },
        "trusted": true,
        "id": "Mdh87ASLylAX"
      },
      "execution_count": null,
      "outputs": []
    },
    {
      "cell_type": "code",
      "source": [
        "#lr_cv_scores.mean()"
      ],
      "metadata": {
        "execution": {
          "iopub.status.busy": "2023-12-15T16:08:21.125234Z",
          "iopub.execute_input": "2023-12-15T16:08:21.125595Z",
          "iopub.status.idle": "2023-12-15T16:08:21.137013Z",
          "shell.execute_reply.started": "2023-12-15T16:08:21.125563Z",
          "shell.execute_reply": "2023-12-15T16:08:21.136147Z"
        },
        "trusted": true,
        "id": "etNbPhSKylAX"
      },
      "execution_count": null,
      "outputs": []
    },
    {
      "cell_type": "markdown",
      "source": [
        "The scores from each fold is quite close. And the mean is almost same as the score we got earlier from the linear regression model. It can be concluded that the model generalizes well on this dataset and is quite robust."
      ],
      "metadata": {
        "id": "EhyefCrbylAX"
      }
    },
    {
      "cell_type": "markdown",
      "source": [
        "**Ridge and Lasso with hyper parameter tuning**"
      ],
      "metadata": {
        "id": "3tI4brDlylAX"
      }
    },
    {
      "cell_type": "code",
      "source": [
        "'''rdg_pipel = Pipeline([\n",
        "    (\"poly\", PolynomialFeatures(interaction_only=True)),\n",
        "    (\"Lasso\", Ridge())\n",
        "    ])\n",
        "\n",
        "param_grid = {'poly__degree': (1,2),\n",
        "              'Lasso__alpha': (0.1,1,10,100,1000,10000)}\n",
        "\n",
        "grid_search = GridSearchCV(estimator= rdg_pipel,\n",
        "                                param_grid = param_grid,\n",
        "                                scoring = \"r2\",\n",
        "                                return_train_score=False,\n",
        "                                cv = 5,\n",
        "                                n_jobs = -1,\n",
        "                                verbose= 1)\n",
        "grid_search.fit(df_train_features,df_train_label)\n",
        "\n",
        "# Get the best hyperparameters\n",
        "best_params = grid_search.best_params_'''\n"
      ],
      "metadata": {
        "execution": {
          "iopub.status.busy": "2023-12-15T16:08:21.143723Z",
          "iopub.execute_input": "2023-12-15T16:08:21.144478Z",
          "iopub.status.idle": "2023-12-15T16:08:21.151781Z",
          "shell.execute_reply.started": "2023-12-15T16:08:21.144441Z",
          "shell.execute_reply": "2023-12-15T16:08:21.150833Z"
        },
        "trusted": true,
        "id": "Lc0xLQ6vylAY"
      },
      "execution_count": null,
      "outputs": []
    },
    {
      "cell_type": "code",
      "source": [
        "#best_params"
      ],
      "metadata": {
        "execution": {
          "iopub.status.busy": "2023-12-15T16:08:21.153213Z",
          "iopub.execute_input": "2023-12-15T16:08:21.153837Z",
          "iopub.status.idle": "2023-12-15T16:08:21.161275Z",
          "shell.execute_reply.started": "2023-12-15T16:08:21.153804Z",
          "shell.execute_reply": "2023-12-15T16:08:21.160468Z"
        },
        "trusted": true,
        "id": "cOGlEaskylAY"
      },
      "execution_count": null,
      "outputs": []
    },
    {
      "cell_type": "code",
      "source": [
        "'''rdg_pipeline_hpt = Pipeline([\n",
        "    (\"poly\", PolynomialFeatures(degree=2,interaction_only=True)),\n",
        "    (\"Lasso\", Ridge( alpha=1))\n",
        "    ])\n",
        "rdg_pipeline_hpt.fit(df_train_features,df_train_label)\n",
        "rdg_pipeline_hpt.score(df_test_features,df_test_label)\n",
        "'''"
      ],
      "metadata": {
        "execution": {
          "iopub.status.busy": "2023-12-15T16:08:21.162973Z",
          "iopub.execute_input": "2023-12-15T16:08:21.163853Z",
          "iopub.status.idle": "2023-12-15T16:08:21.175639Z",
          "shell.execute_reply.started": "2023-12-15T16:08:21.16381Z",
          "shell.execute_reply": "2023-12-15T16:08:21.174882Z"
        },
        "trusted": true,
        "id": "bOclRC2ZylAY"
      },
      "execution_count": null,
      "outputs": []
    },
    {
      "cell_type": "code",
      "source": [
        "'''grid_pipeline = Pipeline([\n",
        "    (\"poly\", PolynomialFeatures(interaction_only=True)),\n",
        "    (\"Lasso\", Lasso(warm_start=True))\n",
        "    ])\n",
        "\n",
        "param_grid = {'poly__degree': (1,2),\n",
        "              'Lasso__alpha': (0.1,1,10,100,1000,10000)}\n",
        "lasso_gridsearch = GridSearchCV(estimator= grid_pipeline,\n",
        "                                param_grid = param_grid,\n",
        "                                scoring = \"r2\",\n",
        "                                return_train_score=False,\n",
        "                                cv = 5,\n",
        "                                n_jobs = -1,\n",
        "                                verbose= 1 )\n",
        "lasso_gridsearch.fit(df_train_features,df_train_label)'''"
      ],
      "metadata": {
        "execution": {
          "iopub.status.busy": "2023-12-15T16:08:21.176959Z",
          "iopub.execute_input": "2023-12-15T16:08:21.177427Z",
          "iopub.status.idle": "2023-12-15T16:08:21.1882Z",
          "shell.execute_reply.started": "2023-12-15T16:08:21.177398Z",
          "shell.execute_reply": "2023-12-15T16:08:21.187285Z"
        },
        "trusted": true,
        "id": "EZUktYurylAY"
      },
      "execution_count": null,
      "outputs": []
    },
    {
      "cell_type": "code",
      "source": [
        "#lasso_gridsearch.best_params_"
      ],
      "metadata": {
        "execution": {
          "iopub.status.busy": "2023-12-15T16:08:21.189331Z",
          "iopub.execute_input": "2023-12-15T16:08:21.189815Z",
          "iopub.status.idle": "2023-12-15T16:08:21.205923Z",
          "shell.execute_reply.started": "2023-12-15T16:08:21.189788Z",
          "shell.execute_reply": "2023-12-15T16:08:21.204473Z"
        },
        "trusted": true,
        "id": "jXHAB3vUylAY"
      },
      "execution_count": null,
      "outputs": []
    },
    {
      "cell_type": "code",
      "source": [
        "'''lasso_pipeline_hpt = Pipeline([\n",
        "    (\"poly\", PolynomialFeatures(degree=2,interaction_only=True)),\n",
        "    (\"Lasso\", Lasso(warm_start=True, alpha=10))\n",
        "    ])\n",
        "lasso_pipeline_hpt.fit(df_train_features,df_train_label)\n",
        "lasso_pipeline_hpt.score(df_test_features,df_test_label)'''\n"
      ],
      "metadata": {
        "execution": {
          "iopub.status.busy": "2023-12-15T16:08:21.206945Z",
          "iopub.execute_input": "2023-12-15T16:08:21.208638Z",
          "iopub.status.idle": "2023-12-15T16:08:21.226422Z",
          "shell.execute_reply.started": "2023-12-15T16:08:21.208587Z",
          "shell.execute_reply": "2023-12-15T16:08:21.224897Z"
        },
        "trusted": true,
        "id": "scpkkNMCylAY"
      },
      "execution_count": null,
      "outputs": []
    },
    {
      "cell_type": "markdown",
      "source": [
        "So here Gridsearch CV is performed both with Lasso and Ridge estimators with hyperparameter tuning. The best result on test score comes out to be with Ridge(score on train 0.8083313803744253) with the hyperparameters of alpha = 1 and polynomial degree 2. For Lasso the best fit polynomial degree is 2 and alpha =10, score on training set 0.5543734285945301."
      ],
      "metadata": {
        "id": "hDoteyYZylAY"
      }
    },
    {
      "cell_type": "code",
      "source": [
        "'''lr_pipeline = Pipeline([\n",
        "    (\"poly\", PolynomialFeatures(degree=2,interaction_only=True)),\n",
        "    (\"Linreg\", LinearRegression())\n",
        "    ])\n",
        "lr_pipeline.fit(df_train_features,df_train_label)\n",
        "lr_pipeline.score(df_test_features,df_test_label)'''"
      ],
      "metadata": {
        "execution": {
          "iopub.status.busy": "2023-12-15T16:08:21.228294Z",
          "iopub.execute_input": "2023-12-15T16:08:21.228708Z",
          "iopub.status.idle": "2023-12-15T16:08:21.24177Z",
          "shell.execute_reply.started": "2023-12-15T16:08:21.228656Z",
          "shell.execute_reply": "2023-12-15T16:08:21.240629Z"
        },
        "trusted": true,
        "id": "QRKR_XXBylAY"
      },
      "execution_count": null,
      "outputs": []
    },
    {
      "cell_type": "markdown",
      "source": [
        "The best polynomial degree for both the Lasso and Ridge estimator came out to be 2. This made me investigate the baseline linear regression model with polynomial fit of degree 2. With this fit the score on test data from my train set came out to be 0.9251666749814946 while the score from kaggle competition submission with this fit is -0.96611 signifying that model is overfit on the train data."
      ],
      "metadata": {
        "id": "_woW57SQylAZ"
      }
    },
    {
      "cell_type": "markdown",
      "source": [
        "# K-Nearest Neighbors Regressor"
      ],
      "metadata": {
        "id": "wuNFxPP0ylAZ"
      }
    },
    {
      "cell_type": "code",
      "source": [
        "'''from sklearn.metrics import make_scorer\n",
        "knn_regressor = KNeighborsRegressor()\n",
        "param_grid = {'n_neighbors': [2,3,4, 5, 7, 9, 11]}\n",
        "\n",
        "knn_gridsearch = GridSearchCV(knn_regressor, param_grid, cv=5, scoring=make_scorer(r2_score))\n",
        "\n",
        "knn_gridsearch.fit(df_train_features,df_train_label)\n",
        "\n",
        "# Get the best hyperparameters\n",
        "best_params = knn_gridsearch.best_params_\n",
        "print('best_params')\n",
        "\n",
        "# Get the best model\n",
        "best_knn_model = knn_gridsearch.best_estimator_\n",
        "\n",
        "# Make predictions on the test set using the best model\n",
        "y_pred = best_knn_model.predict(df_test_features)\n",
        "\n",
        "# Evaluate the best model\n",
        "mse = mean_squared_error(df_test_label, y_pred)\n",
        "r2 = r2_score(df_test_label, y_pred)\n",
        "'''"
      ],
      "metadata": {
        "execution": {
          "iopub.status.busy": "2023-12-15T16:08:21.243613Z",
          "iopub.execute_input": "2023-12-15T16:08:21.244224Z",
          "iopub.status.idle": "2023-12-15T16:08:21.256313Z",
          "shell.execute_reply.started": "2023-12-15T16:08:21.244183Z",
          "shell.execute_reply": "2023-12-15T16:08:21.255076Z"
        },
        "trusted": true,
        "id": "D12RlxkKylAZ"
      },
      "execution_count": null,
      "outputs": []
    },
    {
      "cell_type": "markdown",
      "source": [
        "The best parameter is coming out to be n_neighbors = 3. The score with this parameter on Kaggle submission test set is 0.77772. Better than the linear regressor baseline model but still not quite made the cutoff. Also at first my knn model was giving score in negative. I found out that Minmaxscalar does not work well with knn regressor."
      ],
      "metadata": {
        "id": "K-9G9-41ylAZ"
      }
    },
    {
      "cell_type": "markdown",
      "source": [
        "# Support Vector Regressor"
      ],
      "metadata": {
        "id": "uyoGqWQZylAZ"
      }
    },
    {
      "cell_type": "code",
      "source": [
        "'''param_grid ={\n",
        "    'kernel': ['linear', 'rbf'],\n",
        "    'C': [0.1, 1],\n",
        "    'epsilon': [0.1, 0.01]\n",
        "}j\n",
        "svreg_grid= GridSearchCV(SVR(),param_grid,cv=5)\n",
        "svreg_grid.fit(df_train_features, df_train_label)'''"
      ],
      "metadata": {
        "execution": {
          "iopub.status.busy": "2023-12-15T16:08:21.257455Z",
          "iopub.execute_input": "2023-12-15T16:08:21.258473Z",
          "iopub.status.idle": "2023-12-15T16:08:21.271598Z",
          "shell.execute_reply.started": "2023-12-15T16:08:21.258436Z",
          "shell.execute_reply": "2023-12-15T16:08:21.270796Z"
        },
        "trusted": true,
        "id": "t4zxt7olylAZ"
      },
      "execution_count": null,
      "outputs": []
    },
    {
      "cell_type": "code",
      "source": [
        "'''svreg = SVR()\n",
        "svreg.fit(df_train_features, df_train_label)\n",
        "svreg.score(df_test_features,df_test_label)'''"
      ],
      "metadata": {
        "execution": {
          "iopub.status.busy": "2023-12-15T16:08:21.272873Z",
          "iopub.execute_input": "2023-12-15T16:08:21.273901Z",
          "iopub.status.idle": "2023-12-15T16:08:21.294622Z",
          "shell.execute_reply.started": "2023-12-15T16:08:21.273869Z",
          "shell.execute_reply": "2023-12-15T16:08:21.293614Z"
        },
        "trusted": true,
        "id": "bYYswLPUylAZ"
      },
      "execution_count": null,
      "outputs": []
    },
    {
      "cell_type": "markdown",
      "source": [
        "support vector regression from my study seems to be quite computationally exhaustive. The Grid search in this notebook without any accelarator was not yielding any results for a long time. So I decided to train with default hyper parameters.If the score on my test set and kaggle submission crosses the threshold, I will tune the hyperparameters. And test score is coming out to be 0.762094537474704. A close score to my baseline linear regressor model. The kaggle submission score is 0.7308 so I will not be investigating it anymore."
      ],
      "metadata": {
        "id": "2IE2irtMylAZ"
      }
    },
    {
      "cell_type": "markdown",
      "source": [
        "# Boosting algorithms\n",
        "**Gradient boosting regressor**"
      ],
      "metadata": {
        "id": "M6sRguV2ylAZ"
      }
    },
    {
      "cell_type": "code",
      "source": [
        "'''param_grid = {\n",
        "    'n_estimators' : [50,100,200],\n",
        "    'learning_rate' : [0.01,0.1,0.2],\n",
        "    'max_depth' : [3,5,7]\n",
        "}\n",
        "gradboost_grid = GridSearchCV(GradientBoostingRegressor(),param_grid,cv=3,n_jobs=-1,scoring='r2')\n",
        "gradboost_grid.fit(df_train_features, df_train_label)\n",
        "bestparams=gradboost_grid.best_params_'''"
      ],
      "metadata": {
        "execution": {
          "iopub.status.busy": "2023-12-15T16:08:21.296378Z",
          "iopub.execute_input": "2023-12-15T16:08:21.296852Z",
          "iopub.status.idle": "2023-12-15T16:08:21.310868Z",
          "shell.execute_reply.started": "2023-12-15T16:08:21.296818Z",
          "shell.execute_reply": "2023-12-15T16:08:21.309542Z"
        },
        "trusted": true,
        "id": "36NsxdMHylAZ"
      },
      "execution_count": null,
      "outputs": []
    },
    {
      "cell_type": "code",
      "source": [
        "#bestparams"
      ],
      "metadata": {
        "execution": {
          "iopub.status.busy": "2023-12-15T16:08:21.313519Z",
          "iopub.execute_input": "2023-12-15T16:08:21.315019Z",
          "iopub.status.idle": "2023-12-15T16:08:21.323194Z",
          "shell.execute_reply.started": "2023-12-15T16:08:21.314856Z",
          "shell.execute_reply": "2023-12-15T16:08:21.322025Z"
        },
        "trusted": true,
        "id": "hTOgQ5q2ylAa"
      },
      "execution_count": null,
      "outputs": []
    },
    {
      "cell_type": "markdown",
      "source": [
        "For the gradient boosting regressor the best hyperparameters from the above code came out to be {'learning_rate': 0.1, 'max_depth': 7, 'n_estimators': 200}"
      ],
      "metadata": {
        "id": "HQ3fPnkmylAa"
      }
    },
    {
      "cell_type": "code",
      "source": [
        "gradboost_reg=GradientBoostingRegressor(learning_rate=0.1,max_depth= 7, n_estimators= 200 )\n",
        "gradboost_reg.fit(df_train_features,df_train_label)"
      ],
      "metadata": {
        "execution": {
          "iopub.status.busy": "2023-12-15T16:08:21.324513Z",
          "iopub.execute_input": "2023-12-15T16:08:21.325265Z",
          "iopub.status.idle": "2023-12-15T16:11:04.969419Z",
          "shell.execute_reply.started": "2023-12-15T16:08:21.325211Z",
          "shell.execute_reply": "2023-12-15T16:11:04.967499Z"
        },
        "trusted": true,
        "id": "j2IAazQMylAa"
      },
      "execution_count": null,
      "outputs": []
    },
    {
      "cell_type": "code",
      "source": [
        "gradboost_reg.score(df_test_features,df_test_label)"
      ],
      "metadata": {
        "execution": {
          "iopub.status.busy": "2023-12-15T16:11:04.971287Z",
          "iopub.execute_input": "2023-12-15T16:11:04.971631Z",
          "iopub.status.idle": "2023-12-15T16:11:05.068289Z",
          "shell.execute_reply.started": "2023-12-15T16:11:04.971604Z",
          "shell.execute_reply": "2023-12-15T16:11:05.067303Z"
        },
        "trusted": true,
        "id": "ILGdw4mmylAa"
      },
      "execution_count": null,
      "outputs": []
    },
    {
      "cell_type": "markdown",
      "source": [
        "For these hyperparameters the score from my test data came out to be 0.9675702061937632. So I submitted the model on kaggle competition where it scored 0.95025. As this is giving me a good score I am going to try the XGBoostRegressor from XGBoost library"
      ],
      "metadata": {
        "id": "sDEKLGhbylAa"
      }
    },
    {
      "cell_type": "markdown",
      "source": [
        "**XGBoost regressor**"
      ],
      "metadata": {
        "id": "ZOBspTBZylAa"
      }
    },
    {
      "cell_type": "markdown",
      "source": [
        "Using Gridsearchcv to tune the hyper parameters for xgboost was taking a lot of computational resources. So I tested vanilla xgbregressor and xgbregressor with the hyperparameters I had obtained from the Gradient Boosting grid seach cv"
      ],
      "metadata": {
        "id": "Rl3ltHnqylAa"
      }
    },
    {
      "cell_type": "markdown",
      "source": [
        "**XGBRegressor without any hyperparameter tuning**"
      ],
      "metadata": {
        "id": "qv0Omy5aylAa"
      }
    },
    {
      "cell_type": "code",
      "source": [
        "xgboostreg = XGBRegressor()\n",
        "xgboostreg.fit(df_train_features,df_train_label)\n",
        "xgboostreg.score(df_train_features,df_train_label)"
      ],
      "metadata": {
        "execution": {
          "iopub.status.busy": "2023-12-15T16:11:05.07044Z",
          "iopub.execute_input": "2023-12-15T16:11:05.070853Z",
          "iopub.status.idle": "2023-12-15T16:11:17.375194Z",
          "shell.execute_reply.started": "2023-12-15T16:11:05.070823Z",
          "shell.execute_reply": "2023-12-15T16:11:17.374098Z"
        },
        "trusted": true,
        "id": "HBuxajUCylAa"
      },
      "execution_count": null,
      "outputs": []
    },
    {
      "cell_type": "markdown",
      "source": [
        "The score on my sample test set using the above code is 0.9783256227958561. The kaggle submission score is 0.94811"
      ],
      "metadata": {
        "id": "OArFgV2KylAa"
      }
    },
    {
      "cell_type": "markdown",
      "source": [
        "**XGB regressor using the hyper parameters obtained from gradient boosting regressor grid search.**"
      ],
      "metadata": {
        "id": "8ADJDhWAylAa"
      }
    },
    {
      "cell_type": "code",
      "source": [
        "xgboostreg_gb = XGBRegressor(n_estimators=200, max_depth=7, eta=0.1)\n",
        "xgboostreg_gb.fit(df_train_features,df_train_label)\n",
        "xgboostreg_gb.score(df_train_features,df_train_label)"
      ],
      "metadata": {
        "execution": {
          "iopub.status.busy": "2023-12-15T16:11:17.376588Z",
          "iopub.execute_input": "2023-12-15T16:11:17.377147Z",
          "iopub.status.idle": "2023-12-15T16:11:47.599874Z",
          "shell.execute_reply.started": "2023-12-15T16:11:17.377117Z",
          "shell.execute_reply": "2023-12-15T16:11:47.599004Z"
        },
        "trusted": true,
        "id": "aNN9TFB_ylAb"
      },
      "execution_count": null,
      "outputs": []
    },
    {
      "cell_type": "markdown",
      "source": [
        "Now the score on my test set is 0.9808093846552104. The score on kaggle submission is 0.95173. A slight improvement from my Gradient boosting regressor score on kaggle submission, but a significant improvement than the vanilla xgbregressor without any hyperparameter tuning."
      ],
      "metadata": {
        "id": "qexX67ZWylAb"
      }
    },
    {
      "cell_type": "markdown",
      "source": [
        "**XGB regressor with gridsearch**"
      ],
      "metadata": {
        "id": "od2QBsLGylAb"
      }
    },
    {
      "cell_type": "code",
      "source": [
        "'''param_grid = {\n",
        "    'n_estimators' : [50,100,200],\n",
        "    'eta' : [0.01,0.1,0.2],\n",
        "    'max_depth' : [3,5,7],\n",
        "    'min_child_weight': [1,2,3]\n",
        "}\n",
        "xgboost_grid = GridSearchCV(XGBRegressor(),param_grid,cv=3,n_jobs=-1,scoring='r2')\n",
        "xgboost_grid.fit(df_train_features, df_train_label)\n",
        "bestparams=xgboost_grid.best_params_'''"
      ],
      "metadata": {
        "execution": {
          "iopub.status.busy": "2023-12-15T16:11:47.601166Z",
          "iopub.execute_input": "2023-12-15T16:11:47.602029Z",
          "iopub.status.idle": "2023-12-15T16:11:47.609088Z",
          "shell.execute_reply.started": "2023-12-15T16:11:47.601993Z",
          "shell.execute_reply": "2023-12-15T16:11:47.608028Z"
        },
        "trusted": true,
        "id": "p-2oWYRUylAb"
      },
      "execution_count": null,
      "outputs": []
    },
    {
      "cell_type": "code",
      "source": [
        "#bestparams"
      ],
      "metadata": {
        "execution": {
          "iopub.status.busy": "2023-12-15T16:11:47.610888Z",
          "iopub.execute_input": "2023-12-15T16:11:47.611372Z",
          "iopub.status.idle": "2023-12-15T16:11:47.622942Z",
          "shell.execute_reply.started": "2023-12-15T16:11:47.611258Z",
          "shell.execute_reply": "2023-12-15T16:11:47.621983Z"
        },
        "trusted": true,
        "id": "7FAhonYYylAb"
      },
      "execution_count": null,
      "outputs": []
    },
    {
      "cell_type": "markdown",
      "source": [
        "Using the grid search above I found the best paramas to be (n_estimators=100, max_depth=7,min_child_weight = 2,eta=0.1)."
      ],
      "metadata": {
        "id": "u1rr-aARylAb"
      }
    },
    {
      "cell_type": "code",
      "source": [
        "xgboostreg_hpt = XGBRegressor(n_estimators=100, max_depth=7,min_child_weight = 2,eta=0.1)\n",
        "xgboostreg_hpt.fit(df_train_features,df_train_label)\n",
        "xgboostreg_hpt.score(df_train_features,df_train_label)"
      ],
      "metadata": {
        "execution": {
          "iopub.status.busy": "2023-12-15T16:11:47.626082Z",
          "iopub.execute_input": "2023-12-15T16:11:47.627124Z",
          "iopub.status.idle": "2023-12-15T16:12:03.365299Z",
          "shell.execute_reply.started": "2023-12-15T16:11:47.627073Z",
          "shell.execute_reply": "2023-12-15T16:12:03.364522Z"
        },
        "trusted": true,
        "id": "ekkJ9_JkylAb"
      },
      "execution_count": null,
      "outputs": []
    },
    {
      "cell_type": "markdown",
      "source": [
        "Using the hyperparameters obtained from grid search the score on my test set was found to be 0.9737979928429287, while score on kaggle submission was 0.95033. Unexpectedly the score did not improve from the score found from the parameters from gradient boosting."
      ],
      "metadata": {
        "id": "bDK08LRHylAb"
      }
    },
    {
      "cell_type": "markdown",
      "source": [
        "**DecisionTree Regressor**"
      ],
      "metadata": {
        "id": "81b8nuzPylAb"
      }
    },
    {
      "cell_type": "code",
      "source": [
        "'''param_grid = {\n",
        "\n",
        "    'max_features': [1.0, None],\n",
        "    'min_samples_split': [2, 5, 10,20,25],\n",
        "    'min_samples_leaf': [1, 2,3,4,5],\n",
        "    'max_depth': [None, 5,10, 15,20,25],\n",
        "\n",
        "}\n",
        "decisiontree_grid= GridSearchCV(DecisionTreeRegressor(),param_grid,cv=3,n_jobs=-1,scoring='r2')\n",
        "decisiontree_grid.fit(df_train_features, df_train_label)\n",
        "bestparams=decisiontree_grid.best_params_'''"
      ],
      "metadata": {
        "execution": {
          "iopub.status.busy": "2023-12-15T16:12:03.36644Z",
          "iopub.execute_input": "2023-12-15T16:12:03.367562Z",
          "iopub.status.idle": "2023-12-15T16:12:03.373241Z",
          "shell.execute_reply.started": "2023-12-15T16:12:03.367518Z",
          "shell.execute_reply": "2023-12-15T16:12:03.372402Z"
        },
        "trusted": true,
        "id": "8FBxmHDeylAc"
      },
      "execution_count": null,
      "outputs": []
    },
    {
      "cell_type": "code",
      "source": [
        "#bestparams"
      ],
      "metadata": {
        "execution": {
          "iopub.status.busy": "2023-12-15T16:12:03.374721Z",
          "iopub.execute_input": "2023-12-15T16:12:03.375261Z",
          "iopub.status.idle": "2023-12-15T16:12:03.38925Z",
          "shell.execute_reply.started": "2023-12-15T16:12:03.375232Z",
          "shell.execute_reply": "2023-12-15T16:12:03.388384Z"
        },
        "trusted": true,
        "id": "bsQa5RzZylAc"
      },
      "execution_count": null,
      "outputs": []
    },
    {
      "cell_type": "markdown",
      "source": [
        "From the above code the hyperparameters came out to be {'max_depth': 15,\n",
        " 'max_features': None,\n",
        " 'min_samples_leaf': 2,\n",
        " 'min_samples_split': 25}"
      ],
      "metadata": {
        "id": "2e_MCUM6ylAc"
      }
    },
    {
      "cell_type": "code",
      "source": [
        "decisiontree=DecisionTreeRegressor(max_depth= 15, max_features= None, min_samples_leaf= 2,min_samples_split=25)\n",
        "decisiontree.fit(df_train_features,df_train_label)"
      ],
      "metadata": {
        "execution": {
          "iopub.status.busy": "2023-12-15T16:12:03.390458Z",
          "iopub.execute_input": "2023-12-15T16:12:03.390906Z",
          "iopub.status.idle": "2023-12-15T16:12:05.012334Z",
          "shell.execute_reply.started": "2023-12-15T16:12:03.390882Z",
          "shell.execute_reply": "2023-12-15T16:12:05.011468Z"
        },
        "trusted": true,
        "id": "DFtiqFI8ylAc"
      },
      "execution_count": null,
      "outputs": []
    },
    {
      "cell_type": "code",
      "source": [
        "decisiontree.score(df_test_features,df_test_label)"
      ],
      "metadata": {
        "execution": {
          "iopub.status.busy": "2023-12-15T16:12:05.013792Z",
          "iopub.execute_input": "2023-12-15T16:12:05.014333Z",
          "iopub.status.idle": "2023-12-15T16:12:05.027019Z",
          "shell.execute_reply.started": "2023-12-15T16:12:05.014301Z",
          "shell.execute_reply": "2023-12-15T16:12:05.026001Z"
        },
        "trusted": true,
        "id": "EpmJjkxJylAc"
      },
      "execution_count": null,
      "outputs": []
    },
    {
      "cell_type": "markdown",
      "source": [
        "The decision tree model is giving score of 0.9456630876919249 on the test set from the train dataset. The kaggle submission score came out to be 0.92711. Indicating that the model may be slighlty overfit on the train data."
      ],
      "metadata": {
        "id": "4oQWHCX5ylAc"
      }
    },
    {
      "cell_type": "markdown",
      "source": [
        "**RandomForest Regressor**"
      ],
      "metadata": {
        "id": "mXTCfXqOylAc"
      }
    },
    {
      "cell_type": "code",
      "source": [
        "'''param_grid = {\n",
        "    'n_estimators' : [50,100,200],\n",
        "    'max_features': [1.0, 'sqrt', 'log2'],\n",
        "    'max_depth': [None, 10, 20],\n",
        "\n",
        "}\n",
        "randomforest_grid= GridSearchCV(RandomForestRegressor(),param_grid,cv=3,n_jobs=-1,scoring='r2')\n",
        "randomforest_grid.fit(df_train_features, df_train_label)\n",
        "bestparams=randomforest_grid.best_params_'''"
      ],
      "metadata": {
        "execution": {
          "iopub.status.busy": "2023-12-15T16:12:05.02845Z",
          "iopub.execute_input": "2023-12-15T16:12:05.028814Z",
          "iopub.status.idle": "2023-12-15T16:12:05.037555Z",
          "shell.execute_reply.started": "2023-12-15T16:12:05.028785Z",
          "shell.execute_reply": "2023-12-15T16:12:05.035446Z"
        },
        "trusted": true,
        "id": "QIrhplznylAc"
      },
      "execution_count": null,
      "outputs": []
    },
    {
      "cell_type": "code",
      "source": [
        "#bestparams"
      ],
      "metadata": {
        "execution": {
          "iopub.status.busy": "2023-12-15T16:12:05.04012Z",
          "iopub.execute_input": "2023-12-15T16:12:05.04053Z",
          "iopub.status.idle": "2023-12-15T16:12:05.048188Z",
          "shell.execute_reply.started": "2023-12-15T16:12:05.040499Z",
          "shell.execute_reply": "2023-12-15T16:12:05.047049Z"
        },
        "trusted": true,
        "id": "U613FlHhylAc"
      },
      "execution_count": null,
      "outputs": []
    },
    {
      "cell_type": "markdown",
      "source": [
        "Using the above code  to tune the hyper parametrs it is found that best hyperparameter for RandomForestRegressor is {'max_depth': 20, 'max_features': 1.0, 'n_estimators': 200}"
      ],
      "metadata": {
        "id": "ARq2VbdmylAc"
      }
    },
    {
      "cell_type": "code",
      "source": [
        "randomforest=RandomForestRegressor(max_depth= 20, max_features= 1.0, n_estimators= 200)\n",
        "randomforest.fit(df_train_features,df_train_label)"
      ],
      "metadata": {
        "execution": {
          "iopub.status.busy": "2023-12-15T16:12:05.049515Z",
          "iopub.execute_input": "2023-12-15T16:12:05.050468Z",
          "iopub.status.idle": "2023-12-15T16:16:15.939399Z",
          "shell.execute_reply.started": "2023-12-15T16:12:05.050428Z",
          "shell.execute_reply": "2023-12-15T16:16:15.938014Z"
        },
        "trusted": true,
        "id": "fU2bhRqcylAd"
      },
      "execution_count": null,
      "outputs": []
    },
    {
      "cell_type": "code",
      "source": [
        "randomforest.score(df_test_features,df_test_label)"
      ],
      "metadata": {
        "execution": {
          "iopub.status.busy": "2023-12-15T16:16:15.940961Z",
          "iopub.execute_input": "2023-12-15T16:16:15.941272Z",
          "iopub.status.idle": "2023-12-15T16:16:16.943955Z",
          "shell.execute_reply.started": "2023-12-15T16:16:15.941242Z",
          "shell.execute_reply": "2023-12-15T16:16:16.942419Z"
        },
        "trusted": true,
        "id": "bg4g48R8ylAd"
      },
      "execution_count": null,
      "outputs": []
    },
    {
      "cell_type": "markdown",
      "source": [
        "for my test sample from the train dataset, the score is coming out to be 0.9644980844207918. So I will be submitting it to competition to check for the tran.csv dataset. The kaggle submission score for this model is 0.94556."
      ],
      "metadata": {
        "id": "g7qOt0ovylAd"
      }
    },
    {
      "cell_type": "markdown",
      "source": [
        "****"
      ],
      "metadata": {
        "id": "tpsyk9c6ylAd"
      }
    },
    {
      "cell_type": "markdown",
      "source": [
        "# Loading the test.csv dataset and performing the transformations"
      ],
      "metadata": {
        "id": "jbg_YwQ1ylAd"
      }
    },
    {
      "cell_type": "code",
      "source": [
        "X_test=pd.read_csv(\"/kaggle/input/taxi-fare-guru-total-amount-prediction-challenge/test.csv\")"
      ],
      "metadata": {
        "execution": {
          "iopub.status.busy": "2023-12-15T16:16:16.944985Z",
          "iopub.execute_input": "2023-12-15T16:16:16.945344Z",
          "iopub.status.idle": "2023-12-15T16:16:17.050396Z",
          "shell.execute_reply.started": "2023-12-15T16:16:16.945317Z",
          "shell.execute_reply": "2023-12-15T16:16:17.049367Z"
        },
        "trusted": true,
        "id": "fb46vlIEylAd"
      },
      "execution_count": null,
      "outputs": []
    },
    {
      "cell_type": "code",
      "source": [
        "X_test.groupby('RatecodeID').apply(len)\n"
      ],
      "metadata": {
        "execution": {
          "iopub.status.busy": "2023-12-15T16:16:17.051957Z",
          "iopub.execute_input": "2023-12-15T16:16:17.052291Z",
          "iopub.status.idle": "2023-12-15T16:16:17.071083Z",
          "shell.execute_reply.started": "2023-12-15T16:16:17.052248Z",
          "shell.execute_reply": "2023-12-15T16:16:17.069087Z"
        },
        "trusted": true,
        "id": "MnKtlJbDylAd"
      },
      "execution_count": null,
      "outputs": []
    },
    {
      "cell_type": "code",
      "source": [
        "X_test['RatecodeID']=X_test['RatecodeID'].replace(6,1)"
      ],
      "metadata": {
        "execution": {
          "iopub.status.busy": "2023-12-15T16:16:17.07267Z",
          "iopub.execute_input": "2023-12-15T16:16:17.073416Z",
          "iopub.status.idle": "2023-12-15T16:16:17.080941Z",
          "shell.execute_reply.started": "2023-12-15T16:16:17.073373Z",
          "shell.execute_reply": "2023-12-15T16:16:17.079051Z"
        },
        "trusted": true,
        "id": "d8wzfKvDylAd"
      },
      "execution_count": null,
      "outputs": []
    },
    {
      "cell_type": "code",
      "source": [
        "X_test[['tpep_pickup_datetime', 'tpep_dropoff_datetime']] = X_test[['tpep_pickup_datetime', 'tpep_dropoff_datetime']].apply(\n",
        "    pd.to_datetime, format='%Y-%m-%d %H:%M:%S', errors='raise')\n",
        "X_test['time_difference_minutes'] = abs((X_test['tpep_dropoff_datetime'] - X_test['tpep_pickup_datetime']).dt.total_seconds() / 60)\n",
        "X_test['hour_of_pickup'] = X_test['tpep_pickup_datetime'].dt.hour\n",
        "X_test['day_of_pickup'] = X_test['tpep_pickup_datetime'].dt.dayofweek\n",
        "X_test['month_of_pickup'] = X_test['tpep_pickup_datetime'].dt.month\n",
        "\n",
        "X_test=X_test.drop(['tpep_pickup_datetime','tpep_dropoff_datetime'],axis = 1)\n",
        "\n",
        "X_test = ct1.transform(X_test)\n",
        "#X_test=X_test.drop(['RatecodeID_6.0'], axis =1)\n",
        "X_test = ct2.transform(X_test)"
      ],
      "metadata": {
        "execution": {
          "iopub.status.busy": "2023-12-15T16:16:17.082799Z",
          "iopub.execute_input": "2023-12-15T16:16:17.084453Z",
          "iopub.status.idle": "2023-12-15T16:16:17.21917Z",
          "shell.execute_reply.started": "2023-12-15T16:16:17.084407Z",
          "shell.execute_reply": "2023-12-15T16:16:17.217671Z"
        },
        "trusted": true,
        "id": "zbDaNiJQylAd"
      },
      "execution_count": null,
      "outputs": []
    },
    {
      "cell_type": "code",
      "source": [],
      "metadata": {
        "trusted": true,
        "id": "yTxlJlRjylAe"
      },
      "execution_count": null,
      "outputs": []
    },
    {
      "cell_type": "markdown",
      "source": [
        "**Predicting on the kaggle test dataset**"
      ],
      "metadata": {
        "id": "UxWlEUY6ylAe"
      }
    },
    {
      "cell_type": "code",
      "source": [
        "y_pred = xgboostreg_gb.predict(X_test)"
      ],
      "metadata": {
        "execution": {
          "iopub.status.busy": "2023-12-15T16:16:17.220977Z",
          "iopub.execute_input": "2023-12-15T16:16:17.221394Z",
          "iopub.status.idle": "2023-12-15T16:16:17.337028Z",
          "shell.execute_reply.started": "2023-12-15T16:16:17.221356Z",
          "shell.execute_reply": "2023-12-15T16:16:17.336259Z"
        },
        "trusted": true,
        "id": "Bctm1ayjylAe"
      },
      "execution_count": null,
      "outputs": []
    },
    {
      "cell_type": "code",
      "source": [
        "\n",
        "#X_test=pd.read_csv(\"/kaggle/input/taxi-fare-guru-total-amount-prediction-challenge/test.csv\")\n",
        "# Make predictions using the Dummy Regressor\n",
        "#y_pred = dummy_regressor.predict(X_test)"
      ],
      "metadata": {
        "execution": {
          "iopub.status.busy": "2023-12-15T16:16:17.338437Z",
          "iopub.execute_input": "2023-12-15T16:16:17.339078Z",
          "iopub.status.idle": "2023-12-15T16:16:17.343392Z",
          "shell.execute_reply.started": "2023-12-15T16:16:17.339041Z",
          "shell.execute_reply": "2023-12-15T16:16:17.342345Z"
        },
        "trusted": true,
        "id": "feMQcVX2ylAe"
      },
      "execution_count": null,
      "outputs": []
    },
    {
      "cell_type": "code",
      "source": [
        "submission = pd.DataFrame(columns = [\"ID\",\"total_amount\"])\n",
        "submission[\"ID\"] = [i for i in range(1,len(y_pred)+1)]\n",
        "submission[\"total_amount\"] = y_pred\n",
        "submission.to_csv('submission.csv',index=False)"
      ],
      "metadata": {
        "execution": {
          "iopub.status.busy": "2023-12-15T16:16:17.34485Z",
          "iopub.execute_input": "2023-12-15T16:16:17.345567Z",
          "iopub.status.idle": "2023-12-15T16:16:17.445517Z",
          "shell.execute_reply.started": "2023-12-15T16:16:17.345534Z",
          "shell.execute_reply": "2023-12-15T16:16:17.443967Z"
        },
        "trusted": true,
        "id": "p7fhDtMaylAe"
      },
      "execution_count": null,
      "outputs": []
    },
    {
      "cell_type": "code",
      "source": [],
      "metadata": {
        "trusted": true,
        "id": "NftqliHzylAe"
      },
      "execution_count": null,
      "outputs": []
    },
    {
      "cell_type": "markdown",
      "source": [
        "# Findings and results"
      ],
      "metadata": {
        "id": "WvLx2gSOylAe"
      }
    },
    {
      "cell_type": "markdown",
      "source": [
        "From my analysis the top performing models were Gradient Boosting Regressor,\n",
        "XGboost, Decision tree Regressor and Random Forest Regressor.\n",
        " Of which Gradient Boosting gave me a good score with the hyperparameters  {'learning_rate': 0.1, 'max_depth': 7, 'n_estimators': 200}. The Grid search for hyperparameters for xgboost were taking a lot of time. And as core ideology behind XGboost and Gradiet boost are same I tried using the same hyperparameters with the xgboost model to get my best score. Later I did the grid search on XGBoost and found that the score on kaggle submission was slightly lower from the parameters obtained in grid search compared to that of gradient boost. So as of now the best performin model is the model named 'xgboostreg_gb'. The KNN model with gridsearch in my finding had the optimal number of neighbour as 3 which when fitted to train data did not give enough score against the baseline model.SVR proved to be computationally expensive in my case.Without any Hyperparameter tuning the score on my test data was close to that of baseline model while the score on kaggle submission was also less than that of baseline model. So I did not investigate it further using hyperparameter tuning. Decision tree and RandomForest were the other top performing models which gave me good score on kaggle submission. Where among those two RandomForest was the better one."
      ],
      "metadata": {
        "id": "GnjL5PaAylAe"
      }
    },
    {
      "cell_type": "code",
      "source": [],
      "metadata": {
        "trusted": true,
        "id": "Rkmxl2T9ylAe"
      },
      "execution_count": null,
      "outputs": []
    }
  ]
}